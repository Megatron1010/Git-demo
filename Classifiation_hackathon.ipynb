{
  "nbformat": 4,
  "nbformat_minor": 0,
  "metadata": {
    "colab": {
      "name": "Classifiation_hackathon.ipynb",
      "version": "0.3.2",
      "provenance": [],
      "collapsed_sections": [],
      "include_colab_link": true
    },
    "language_info": {
      "codemirror_mode": {
        "name": "ipython",
        "version": 3
      },
      "file_extension": ".py",
      "mimetype": "text/x-python",
      "name": "python",
      "nbconvert_exporter": "python",
      "pygments_lexer": "ipython3",
      "version": "3.6.8"
    },
    "kernelspec": {
      "display_name": "Python 3",
      "language": "python",
      "name": "python3"
    },
    "accelerator": "GPU"
  },
  "cells": [
    {
      "cell_type": "markdown",
      "metadata": {
        "id": "view-in-github",
        "colab_type": "text"
      },
      "source": [
        "<a href=\"https://colab.research.google.com/github/Megatron1010/Git-demo/blob/master/Classifiation_hackathon.ipynb\" target=\"_parent\"><img src=\"https://colab.research.google.com/assets/colab-badge.svg\" alt=\"Open In Colab\"/></a>"
      ]
    },
    {
      "cell_type": "markdown",
      "metadata": {
        "colab_type": "text",
        "id": "Pk96PJxUnieY"
      },
      "source": [
        "Classification Hackathon"
      ]
    },
    {
      "cell_type": "markdown",
      "metadata": {
        "id": "H5NflIfNVOrP",
        "colab_type": "text"
      },
      "source": [
        "GitHub Link: https://github.com/Megatron1010/Git-demo/blob/master/Classifiation_hackathon.ipynb"
      ]
    },
    {
      "cell_type": "markdown",
      "metadata": {
        "id": "qwP12alJVOrS",
        "colab_type": "text"
      },
      "source": [
        "# Classification Hackathon\n",
        "\n",
        "For the specifications for today's Hackathon use the slides linked below. Just note a couple things before you start:\n",
        "* Use your full name and ```_EDSA``` as your Zindi username.\n",
        "* The dataset for this challenge is very large and will take a long time to process. In order to use your time wisely, only use a small subset of the data to figure out how to solve this challenge, and once you're happy with that, train your model with the entire dataset.\n",
        "* This Zindi challenge is tough. This will be taken into account when the supervisors mark your work. Do not worry too much about your placement on the leaderboard. In the Regression Hackathon ```laura_the_explorer``` was in first place but is outside the top 100 in this challenge\n",
        "* To submit your Hackathon to Athena, zip your notebook and your submission csv file, and upload that here. Note that your report card will say you have 100% once you submit your file.\n",
        "* Please attach the *Honour code* (below) cell to your notebook. \n",
        "\n",
        "Further instructions found on these slides: https://docs.google.com/presentation/d/1AbVndI5aOd27Jm0E1qNoYzRtWiZ6-DE3BDE0djGxzIk/edit?usp=sharing\n",
        "\n",
        "** Good luck! **"
      ]
    },
    {
      "cell_type": "markdown",
      "metadata": {
        "id": "3RfJfiwEVOrV",
        "colab_type": "text"
      },
      "source": [
        "## Honour Code\n",
        "I Anga Tinzi, confirm - by submitting my - that the solutions in this notebook are a result of my own work and that I abide by the EDSA honour code (https://drive.google.com/file/d/1QDCjGZJ8-FmJE3bZdIQNwnJyQKPhHZBn/view?usp=sharing).\n",
        "\n",
        "Non-compliance with the honour code constitutes a material breach of contract."
      ]
    },
    {
      "cell_type": "markdown",
      "metadata": {
        "id": "a99YszyQVOrX",
        "colab_type": "text"
      },
      "source": [
        ""
      ]
    },
    {
      "cell_type": "markdown",
      "metadata": {
        "colab_type": "text",
        "id": "TVTPpytpstbY"
      },
      "source": [
        "Importing the libraries"
      ]
    },
    {
      "cell_type": "code",
      "metadata": {
        "colab_type": "code",
        "id": "2bY4V4Gxn1Qj",
        "colab": {}
      },
      "source": [
        "import numpy as np\n",
        "import pandas as pd\n",
        "import matplotlib.pyplot as plt\n",
        "import io\n",
        "import seaborn as sns\n",
        "\n",
        "from sklearn.utils import resample\n",
        "from math import sqrt\n",
        "from sklearn.preprocessing import StandardScaler\n",
        "from sklearn.preprocessing import LabelEncoder \n",
        "from sklearn.linear_model import LogisticRegression\n",
        "from sklearn.neighbors import KNeighborsClassifier\n",
        "from sklearn.ensemble import RandomForestClassifier\n",
        "from sklearn.datasets import make_classification\n",
        "from sklearn.metrics import accuracy_score, f1_score, confusion_matrix, recall_score\n"
      ],
      "execution_count": 0,
      "outputs": []
    },
    {
      "cell_type": "markdown",
      "metadata": {
        "colab_type": "text",
        "id": "HHu_A3XysoMu"
      },
      "source": [
        "Importing the dataset"
      ]
    },
    {
      "cell_type": "markdown",
      "metadata": {
        "id": "LHpvy3HtVOro",
        "colab_type": "text"
      },
      "source": [
        "Please uncomment if using colaboratory"
      ]
    },
    {
      "cell_type": "code",
      "metadata": {
        "colab_type": "code",
        "id": "Vn-OYDmFpxtd",
        "colab": {}
      },
      "source": [
        "#from google.colab import files\n",
        "#uploaded = files.upload() # Code used to import csv files from local drive"
      ],
      "execution_count": 0,
      "outputs": []
    },
    {
      "cell_type": "code",
      "metadata": {
        "colab_type": "code",
        "id": "rHVv4VaKn80E",
        "colab": {}
      },
      "source": [
        "#train_df = pd.read_csv(io.BytesIO(uploaded['training.csv']))\n",
        "#test_df = pd.read_csv(io.BytesIO(uploaded['test.csv']))\n"
      ],
      "execution_count": 0,
      "outputs": []
    },
    {
      "cell_type": "code",
      "metadata": {
        "id": "V1SVmmOYVOr0",
        "colab_type": "code",
        "colab": {}
      },
      "source": [
        "train_df = pd.read_csv('training.csv')\n",
        "test_df = pd.read_csv('test.csv')"
      ],
      "execution_count": 0,
      "outputs": []
    },
    {
      "cell_type": "code",
      "metadata": {
        "colab_type": "code",
        "id": "KmXqnVYwpLHz",
        "colab": {},
        "outputId": "70b79973-384a-4d08-9d5d-ce36e1c04313"
      },
      "source": [
        "train_df.head()"
      ],
      "execution_count": 0,
      "outputs": [
        {
          "output_type": "execute_result",
          "data": {
            "text/html": [
              "<div>\n",
              "<style>\n",
              "    .dataframe thead tr:only-child th {\n",
              "        text-align: right;\n",
              "    }\n",
              "\n",
              "    .dataframe thead th {\n",
              "        text-align: left;\n",
              "    }\n",
              "\n",
              "    .dataframe tbody tr th {\n",
              "        vertical-align: top;\n",
              "    }\n",
              "</style>\n",
              "<table border=\"1\" class=\"dataframe\">\n",
              "  <thead>\n",
              "    <tr style=\"text-align: right;\">\n",
              "      <th></th>\n",
              "      <th>TransactionId</th>\n",
              "      <th>BatchId</th>\n",
              "      <th>AccountId</th>\n",
              "      <th>SubscriptionId</th>\n",
              "      <th>CustomerId</th>\n",
              "      <th>CurrencyCode</th>\n",
              "      <th>CountryCode</th>\n",
              "      <th>ProviderId</th>\n",
              "      <th>ProductId</th>\n",
              "      <th>ProductCategory</th>\n",
              "      <th>ChannelId</th>\n",
              "      <th>Amount</th>\n",
              "      <th>Value</th>\n",
              "      <th>TransactionStartTime</th>\n",
              "      <th>PricingStrategy</th>\n",
              "      <th>FraudResult</th>\n",
              "    </tr>\n",
              "  </thead>\n",
              "  <tbody>\n",
              "    <tr>\n",
              "      <th>0</th>\n",
              "      <td>TransactionId_76871</td>\n",
              "      <td>BatchId_36123</td>\n",
              "      <td>AccountId_3957</td>\n",
              "      <td>SubscriptionId_887</td>\n",
              "      <td>CustomerId_4406</td>\n",
              "      <td>UGX</td>\n",
              "      <td>256</td>\n",
              "      <td>ProviderId_6</td>\n",
              "      <td>ProductId_10</td>\n",
              "      <td>airtime</td>\n",
              "      <td>ChannelId_3</td>\n",
              "      <td>1000.0</td>\n",
              "      <td>1000</td>\n",
              "      <td>2018-11-15T02:18:49Z</td>\n",
              "      <td>2</td>\n",
              "      <td>0</td>\n",
              "    </tr>\n",
              "    <tr>\n",
              "      <th>1</th>\n",
              "      <td>TransactionId_73770</td>\n",
              "      <td>BatchId_15642</td>\n",
              "      <td>AccountId_4841</td>\n",
              "      <td>SubscriptionId_3829</td>\n",
              "      <td>CustomerId_4406</td>\n",
              "      <td>UGX</td>\n",
              "      <td>256</td>\n",
              "      <td>ProviderId_4</td>\n",
              "      <td>ProductId_6</td>\n",
              "      <td>financial_services</td>\n",
              "      <td>ChannelId_2</td>\n",
              "      <td>-20.0</td>\n",
              "      <td>20</td>\n",
              "      <td>2018-11-15T02:19:08Z</td>\n",
              "      <td>2</td>\n",
              "      <td>0</td>\n",
              "    </tr>\n",
              "    <tr>\n",
              "      <th>2</th>\n",
              "      <td>TransactionId_26203</td>\n",
              "      <td>BatchId_53941</td>\n",
              "      <td>AccountId_4229</td>\n",
              "      <td>SubscriptionId_222</td>\n",
              "      <td>CustomerId_4683</td>\n",
              "      <td>UGX</td>\n",
              "      <td>256</td>\n",
              "      <td>ProviderId_6</td>\n",
              "      <td>ProductId_1</td>\n",
              "      <td>airtime</td>\n",
              "      <td>ChannelId_3</td>\n",
              "      <td>500.0</td>\n",
              "      <td>500</td>\n",
              "      <td>2018-11-15T02:44:21Z</td>\n",
              "      <td>2</td>\n",
              "      <td>0</td>\n",
              "    </tr>\n",
              "    <tr>\n",
              "      <th>3</th>\n",
              "      <td>TransactionId_380</td>\n",
              "      <td>BatchId_102363</td>\n",
              "      <td>AccountId_648</td>\n",
              "      <td>SubscriptionId_2185</td>\n",
              "      <td>CustomerId_988</td>\n",
              "      <td>UGX</td>\n",
              "      <td>256</td>\n",
              "      <td>ProviderId_1</td>\n",
              "      <td>ProductId_21</td>\n",
              "      <td>utility_bill</td>\n",
              "      <td>ChannelId_3</td>\n",
              "      <td>20000.0</td>\n",
              "      <td>21800</td>\n",
              "      <td>2018-11-15T03:32:55Z</td>\n",
              "      <td>2</td>\n",
              "      <td>0</td>\n",
              "    </tr>\n",
              "    <tr>\n",
              "      <th>4</th>\n",
              "      <td>TransactionId_28195</td>\n",
              "      <td>BatchId_38780</td>\n",
              "      <td>AccountId_4841</td>\n",
              "      <td>SubscriptionId_3829</td>\n",
              "      <td>CustomerId_988</td>\n",
              "      <td>UGX</td>\n",
              "      <td>256</td>\n",
              "      <td>ProviderId_4</td>\n",
              "      <td>ProductId_6</td>\n",
              "      <td>financial_services</td>\n",
              "      <td>ChannelId_2</td>\n",
              "      <td>-644.0</td>\n",
              "      <td>644</td>\n",
              "      <td>2018-11-15T03:34:21Z</td>\n",
              "      <td>2</td>\n",
              "      <td>0</td>\n",
              "    </tr>\n",
              "  </tbody>\n",
              "</table>\n",
              "</div>"
            ],
            "text/plain": [
              "         TransactionId         BatchId       AccountId       SubscriptionId  \\\n",
              "0  TransactionId_76871   BatchId_36123  AccountId_3957   SubscriptionId_887   \n",
              "1  TransactionId_73770   BatchId_15642  AccountId_4841  SubscriptionId_3829   \n",
              "2  TransactionId_26203   BatchId_53941  AccountId_4229   SubscriptionId_222   \n",
              "3    TransactionId_380  BatchId_102363   AccountId_648  SubscriptionId_2185   \n",
              "4  TransactionId_28195   BatchId_38780  AccountId_4841  SubscriptionId_3829   \n",
              "\n",
              "        CustomerId CurrencyCode  CountryCode    ProviderId     ProductId  \\\n",
              "0  CustomerId_4406          UGX          256  ProviderId_6  ProductId_10   \n",
              "1  CustomerId_4406          UGX          256  ProviderId_4   ProductId_6   \n",
              "2  CustomerId_4683          UGX          256  ProviderId_6   ProductId_1   \n",
              "3   CustomerId_988          UGX          256  ProviderId_1  ProductId_21   \n",
              "4   CustomerId_988          UGX          256  ProviderId_4   ProductId_6   \n",
              "\n",
              "      ProductCategory    ChannelId   Amount  Value  TransactionStartTime  \\\n",
              "0             airtime  ChannelId_3   1000.0   1000  2018-11-15T02:18:49Z   \n",
              "1  financial_services  ChannelId_2    -20.0     20  2018-11-15T02:19:08Z   \n",
              "2             airtime  ChannelId_3    500.0    500  2018-11-15T02:44:21Z   \n",
              "3        utility_bill  ChannelId_3  20000.0  21800  2018-11-15T03:32:55Z   \n",
              "4  financial_services  ChannelId_2   -644.0    644  2018-11-15T03:34:21Z   \n",
              "\n",
              "   PricingStrategy  FraudResult  \n",
              "0                2            0  \n",
              "1                2            0  \n",
              "2                2            0  \n",
              "3                2            0  \n",
              "4                2            0  "
            ]
          },
          "metadata": {
            "tags": []
          },
          "execution_count": 5
        }
      ]
    },
    {
      "cell_type": "code",
      "metadata": {
        "colab_type": "code",
        "id": "rYzYw1hs4mrQ",
        "colab": {},
        "outputId": "794e0987-faed-4db6-9d60-f614d2a33a8d"
      },
      "source": [
        "test_df.head()"
      ],
      "execution_count": 0,
      "outputs": [
        {
          "output_type": "execute_result",
          "data": {
            "text/html": [
              "<div>\n",
              "<style>\n",
              "    .dataframe thead tr:only-child th {\n",
              "        text-align: right;\n",
              "    }\n",
              "\n",
              "    .dataframe thead th {\n",
              "        text-align: left;\n",
              "    }\n",
              "\n",
              "    .dataframe tbody tr th {\n",
              "        vertical-align: top;\n",
              "    }\n",
              "</style>\n",
              "<table border=\"1\" class=\"dataframe\">\n",
              "  <thead>\n",
              "    <tr style=\"text-align: right;\">\n",
              "      <th></th>\n",
              "      <th>TransactionId</th>\n",
              "      <th>BatchId</th>\n",
              "      <th>AccountId</th>\n",
              "      <th>SubscriptionId</th>\n",
              "      <th>CustomerId</th>\n",
              "      <th>CurrencyCode</th>\n",
              "      <th>CountryCode</th>\n",
              "      <th>ProviderId</th>\n",
              "      <th>ProductId</th>\n",
              "      <th>ProductCategory</th>\n",
              "      <th>ChannelId</th>\n",
              "      <th>Amount</th>\n",
              "      <th>Value</th>\n",
              "      <th>TransactionStartTime</th>\n",
              "      <th>PricingStrategy</th>\n",
              "    </tr>\n",
              "  </thead>\n",
              "  <tbody>\n",
              "    <tr>\n",
              "      <th>0</th>\n",
              "      <td>TransactionId_50600</td>\n",
              "      <td>BatchId_35028</td>\n",
              "      <td>AccountId_2441</td>\n",
              "      <td>SubscriptionId_4426</td>\n",
              "      <td>CustomerId_2857</td>\n",
              "      <td>UGX</td>\n",
              "      <td>256</td>\n",
              "      <td>ProviderId_5</td>\n",
              "      <td>ProductId_3</td>\n",
              "      <td>airtime</td>\n",
              "      <td>ChannelId_3</td>\n",
              "      <td>1000.0</td>\n",
              "      <td>1000</td>\n",
              "      <td>2019-02-13T10:01:40Z</td>\n",
              "      <td>4</td>\n",
              "    </tr>\n",
              "    <tr>\n",
              "      <th>1</th>\n",
              "      <td>TransactionId_95109</td>\n",
              "      <td>BatchId_45139</td>\n",
              "      <td>AccountId_3439</td>\n",
              "      <td>SubscriptionId_2643</td>\n",
              "      <td>CustomerId_3874</td>\n",
              "      <td>UGX</td>\n",
              "      <td>256</td>\n",
              "      <td>ProviderId_5</td>\n",
              "      <td>ProductId_15</td>\n",
              "      <td>financial_services</td>\n",
              "      <td>ChannelId_3</td>\n",
              "      <td>2000.0</td>\n",
              "      <td>2000</td>\n",
              "      <td>2019-02-13T10:02:12Z</td>\n",
              "      <td>2</td>\n",
              "    </tr>\n",
              "    <tr>\n",
              "      <th>2</th>\n",
              "      <td>TransactionId_47357</td>\n",
              "      <td>BatchId_74887</td>\n",
              "      <td>AccountId_4841</td>\n",
              "      <td>SubscriptionId_3829</td>\n",
              "      <td>CustomerId_2857</td>\n",
              "      <td>UGX</td>\n",
              "      <td>256</td>\n",
              "      <td>ProviderId_4</td>\n",
              "      <td>ProductId_6</td>\n",
              "      <td>financial_services</td>\n",
              "      <td>ChannelId_2</td>\n",
              "      <td>-50.0</td>\n",
              "      <td>50</td>\n",
              "      <td>2019-02-13T10:02:30Z</td>\n",
              "      <td>2</td>\n",
              "    </tr>\n",
              "    <tr>\n",
              "      <th>3</th>\n",
              "      <td>TransactionId_28185</td>\n",
              "      <td>BatchId_11025</td>\n",
              "      <td>AccountId_2685</td>\n",
              "      <td>SubscriptionId_4626</td>\n",
              "      <td>CustomerId_3105</td>\n",
              "      <td>UGX</td>\n",
              "      <td>256</td>\n",
              "      <td>ProviderId_5</td>\n",
              "      <td>ProductId_10</td>\n",
              "      <td>airtime</td>\n",
              "      <td>ChannelId_3</td>\n",
              "      <td>3000.0</td>\n",
              "      <td>3000</td>\n",
              "      <td>2019-02-13T10:02:38Z</td>\n",
              "      <td>4</td>\n",
              "    </tr>\n",
              "    <tr>\n",
              "      <th>4</th>\n",
              "      <td>TransactionId_22140</td>\n",
              "      <td>BatchId_29804</td>\n",
              "      <td>AccountId_4841</td>\n",
              "      <td>SubscriptionId_3829</td>\n",
              "      <td>CustomerId_3105</td>\n",
              "      <td>UGX</td>\n",
              "      <td>256</td>\n",
              "      <td>ProviderId_4</td>\n",
              "      <td>ProductId_6</td>\n",
              "      <td>financial_services</td>\n",
              "      <td>ChannelId_2</td>\n",
              "      <td>-60.0</td>\n",
              "      <td>60</td>\n",
              "      <td>2019-02-13T10:02:58Z</td>\n",
              "      <td>2</td>\n",
              "    </tr>\n",
              "  </tbody>\n",
              "</table>\n",
              "</div>"
            ],
            "text/plain": [
              "         TransactionId        BatchId       AccountId       SubscriptionId  \\\n",
              "0  TransactionId_50600  BatchId_35028  AccountId_2441  SubscriptionId_4426   \n",
              "1  TransactionId_95109  BatchId_45139  AccountId_3439  SubscriptionId_2643   \n",
              "2  TransactionId_47357  BatchId_74887  AccountId_4841  SubscriptionId_3829   \n",
              "3  TransactionId_28185  BatchId_11025  AccountId_2685  SubscriptionId_4626   \n",
              "4  TransactionId_22140  BatchId_29804  AccountId_4841  SubscriptionId_3829   \n",
              "\n",
              "        CustomerId CurrencyCode  CountryCode    ProviderId     ProductId  \\\n",
              "0  CustomerId_2857          UGX          256  ProviderId_5   ProductId_3   \n",
              "1  CustomerId_3874          UGX          256  ProviderId_5  ProductId_15   \n",
              "2  CustomerId_2857          UGX          256  ProviderId_4   ProductId_6   \n",
              "3  CustomerId_3105          UGX          256  ProviderId_5  ProductId_10   \n",
              "4  CustomerId_3105          UGX          256  ProviderId_4   ProductId_6   \n",
              "\n",
              "      ProductCategory    ChannelId  Amount  Value  TransactionStartTime  \\\n",
              "0             airtime  ChannelId_3  1000.0   1000  2019-02-13T10:01:40Z   \n",
              "1  financial_services  ChannelId_3  2000.0   2000  2019-02-13T10:02:12Z   \n",
              "2  financial_services  ChannelId_2   -50.0     50  2019-02-13T10:02:30Z   \n",
              "3             airtime  ChannelId_3  3000.0   3000  2019-02-13T10:02:38Z   \n",
              "4  financial_services  ChannelId_2   -60.0     60  2019-02-13T10:02:58Z   \n",
              "\n",
              "   PricingStrategy  \n",
              "0                4  \n",
              "1                2  \n",
              "2                2  \n",
              "3                4  \n",
              "4                2  "
            ]
          },
          "metadata": {
            "tags": []
          },
          "execution_count": 6
        }
      ]
    },
    {
      "cell_type": "markdown",
      "metadata": {
        "colab_type": "text",
        "id": "mLSfaUAJN7bX"
      },
      "source": [
        "Check for missing values"
      ]
    },
    {
      "cell_type": "code",
      "metadata": {
        "colab_type": "code",
        "id": "2vyB7NYzN6Tg",
        "colab": {},
        "outputId": "d293d337-53dc-4de5-8239-d8bfcaede794"
      },
      "source": [
        "missing = train_df.isnull().sum()\n",
        "missing"
      ],
      "execution_count": 0,
      "outputs": [
        {
          "output_type": "execute_result",
          "data": {
            "text/plain": [
              "TransactionId           0\n",
              "BatchId                 0\n",
              "AccountId               0\n",
              "SubscriptionId          0\n",
              "CustomerId              0\n",
              "CurrencyCode            0\n",
              "CountryCode             0\n",
              "ProviderId              0\n",
              "ProductId               0\n",
              "ProductCategory         0\n",
              "ChannelId               0\n",
              "Amount                  0\n",
              "Value                   0\n",
              "TransactionStartTime    0\n",
              "PricingStrategy         0\n",
              "FraudResult             0\n",
              "dtype: int64"
            ]
          },
          "metadata": {
            "tags": []
          },
          "execution_count": 7
        }
      ]
    },
    {
      "cell_type": "code",
      "metadata": {
        "colab_type": "code",
        "id": "CNnbxAP1Oz3Z",
        "colab": {},
        "outputId": "0db71217-af54-444c-fc03-27cec4a5d047"
      },
      "source": [
        "missing = test_df.isnull().sum()\n",
        "missing"
      ],
      "execution_count": 0,
      "outputs": [
        {
          "output_type": "execute_result",
          "data": {
            "text/plain": [
              "TransactionId           0\n",
              "BatchId                 0\n",
              "AccountId               0\n",
              "SubscriptionId          0\n",
              "CustomerId              0\n",
              "CurrencyCode            0\n",
              "CountryCode             0\n",
              "ProviderId              0\n",
              "ProductId               0\n",
              "ProductCategory         0\n",
              "ChannelId               0\n",
              "Amount                  0\n",
              "Value                   0\n",
              "TransactionStartTime    0\n",
              "PricingStrategy         0\n",
              "dtype: int64"
            ]
          },
          "metadata": {
            "tags": []
          },
          "execution_count": 8
        }
      ]
    },
    {
      "cell_type": "code",
      "metadata": {
        "colab_type": "code",
        "id": "MA75qlGLO0DG",
        "colab": {},
        "outputId": "bdc86e36-5771-4578-e845-677249774d6e"
      },
      "source": [
        "train_df.shape"
      ],
      "execution_count": 0,
      "outputs": [
        {
          "output_type": "execute_result",
          "data": {
            "text/plain": [
              "(95662, 16)"
            ]
          },
          "metadata": {
            "tags": []
          },
          "execution_count": 9
        }
      ]
    },
    {
      "cell_type": "code",
      "metadata": {
        "colab_type": "code",
        "id": "lrcSpS68O5VO",
        "colab": {},
        "outputId": "a3f2862e-e36f-447e-df11-697996d02358"
      },
      "source": [
        "test_df.shape"
      ],
      "execution_count": 0,
      "outputs": [
        {
          "output_type": "execute_result",
          "data": {
            "text/plain": [
              "(45019, 15)"
            ]
          },
          "metadata": {
            "tags": []
          },
          "execution_count": 10
        }
      ]
    },
    {
      "cell_type": "markdown",
      "metadata": {
        "colab_type": "text",
        "id": "IAcj1ji8wo7I"
      },
      "source": [
        "Function to show the distribution of of transaction by Fraud Result."
      ]
    },
    {
      "cell_type": "code",
      "metadata": {
        "colab_type": "code",
        "id": "83E4XtxduRKO",
        "colab": {},
        "outputId": "f087badf-4297-4a4b-b9cf-8e57209db914"
      },
      "source": [
        "fig, ax = plt.subplots()\n",
        "x = sns.countplot(train_df['FraudResult'], palette='viridis')\n",
        "x.set_xticklabels(['Not Fraud', 'Fraud'])\n",
        "x.set_yticklabels([])\n",
        "\n",
        "# function to show values on bars\n",
        "def show_values_on_bars(axs):\n",
        "    def _show_on_single_plot(ax):        \n",
        "        for p in ax.patches:\n",
        "            _x = p.get_x() + p.get_width() / 2\n",
        "            _y = p.get_y() + p.get_height()\n",
        "            value = '{:.0f}'.format(p.get_height())\n",
        "            ax.text(_x, _y, value, ha=\"center\") \n",
        "\n",
        "    if isinstance(axs, np.ndarray):\n",
        "        for idx, ax in np.ndenumerate(axs):\n",
        "            _show_on_single_plot(ax)\n",
        "    else:\n",
        "        _show_on_single_plot(axs)\n",
        "show_values_on_bars(ax)\n",
        "\n",
        "sns.despine(left=True, bottom=True)\n",
        "plt.xlabel('')\n",
        "plt.ylabel('')\n",
        "plt.title('Distribution of Transactions', fontsize=30)\n",
        "plt.tick_params(axis='x', which='major', labelsize=20)\n",
        "plt.show()"
      ],
      "execution_count": 0,
      "outputs": [
        {
          "output_type": "display_data",
          "data": {
            "image/png": "[encoded data removed]",
            "text/plain": [
              "<matplotlib.figure.Figure at 0x263824520b8>"
            ]
          },
          "metadata": {
            "tags": [],
            "needs_background": "light"
          }
        }
      ]
    },
    {
      "cell_type": "code",
      "metadata": {
        "colab_type": "code",
        "id": "GQq-8HfFxaOO",
        "colab": {}
      },
      "source": [
        ""
      ],
      "execution_count": 0,
      "outputs": []
    },
    {
      "cell_type": "markdown",
      "metadata": {
        "colab_type": "text",
        "id": "tyHdDutrlKm7"
      },
      "source": [
        "Oversampling minoritty data"
      ]
    },
    {
      "cell_type": "code",
      "metadata": {
        "colab_type": "code",
        "id": "Ijm47Pjgxah2",
        "colab": {}
      },
      "source": [
        "# separate minority and majority classes\n",
        "fraud = train_df[train_df['FraudResult']== 1]\n",
        "not_fraud = train_df[train_df['FraudResult']== 0]\n",
        "\n",
        "\n",
        "# Resampling the minority\n",
        "resampled_fraud = resample(fraud,\n",
        "                          replace=True, # sample with replacement\n",
        "                          n_samples=len(not_fraud), # match number in majority class\n",
        "                          random_state=42) # reproducible results\n",
        "\n",
        "# combine majority and upsampled minority\n",
        "resampled_train_df = pd.concat([not_fraud, resampled_fraud]) "
      ],
      "execution_count": 0,
      "outputs": []
    },
    {
      "cell_type": "code",
      "metadata": {
        "colab_type": "code",
        "id": "EcWnUI8Ilb4q",
        "colab": {}
      },
      "source": [
        ""
      ],
      "execution_count": 0,
      "outputs": []
    },
    {
      "cell_type": "code",
      "metadata": {
        "colab_type": "code",
        "id": "vrYAjq-zl57K",
        "colab": {}
      },
      "source": [
        ""
      ],
      "execution_count": 0,
      "outputs": []
    },
    {
      "cell_type": "code",
      "metadata": {
        "colab_type": "code",
        "id": "cBYPYvIGl6Ez",
        "colab": {}
      },
      "source": [
        ""
      ],
      "execution_count": 0,
      "outputs": []
    },
    {
      "cell_type": "code",
      "metadata": {
        "colab_type": "code",
        "id": "g4N89TpxwO11",
        "colab": {},
        "outputId": "77985342-5f45-4225-c8cd-e197311e2bf5"
      },
      "source": [
        "fig, ax = plt.subplots()\n",
        "x = sns.countplot(resampled_train_df['FraudResult'], palette='viridis')\n",
        "x.set_xticklabels(['Not Fraud', 'Fraud'])\n",
        "x.set_yticklabels([])\n",
        "\n",
        "# function to show values on bars\n",
        "def show_values_on_bars(axs):\n",
        "    def _show_on_single_plot(ax):        \n",
        "        for p in ax.patches:\n",
        "            _x = p.get_x() + p.get_width() / 2\n",
        "            _y = p.get_y() + p.get_height()\n",
        "            value = '{:.0f}'.format(p.get_height())\n",
        "            ax.text(_x, _y, value, ha=\"center\") \n",
        "\n",
        "    if isinstance(axs, np.ndarray):\n",
        "        for idx, ax in np.ndenumerate(axs):\n",
        "            _show_on_single_plot(ax)\n",
        "    else:\n",
        "        _show_on_single_plot(axs)\n",
        "show_values_on_bars(ax)\n",
        "\n",
        "sns.despine(left=True, bottom=True)\n",
        "plt.xlabel('')\n",
        "plt.ylabel('')\n",
        "plt.title('Distribution of Transactions for Over sampled data', fontsize=30)\n",
        "plt.tick_params(axis='x', which='major', labelsize=20)\n",
        "plt.show()"
      ],
      "execution_count": 0,
      "outputs": [
        {
          "output_type": "display_data",
          "data": {
            "image/png": "[encoded data removed]",
            "text/plain": [
              "<matplotlib.figure.Figure at 0x2638276d160>"
            ]
          },
          "metadata": {
            "tags": [],
            "needs_background": "light"
          }
        }
      ]
    },
    {
      "cell_type": "code",
      "metadata": {
        "colab_type": "code",
        "id": "cXutXrbWmT70",
        "colab": {}
      },
      "source": [
        ""
      ],
      "execution_count": 0,
      "outputs": []
    },
    {
      "cell_type": "markdown",
      "metadata": {
        "colab_type": "text",
        "id": "2q6zV2w3mXUk"
      },
      "source": [
        "Undersampling Majority Class"
      ]
    },
    {
      "cell_type": "code",
      "metadata": {
        "colab_type": "code",
        "id": "1eLzmxUhmaCM",
        "colab": {}
      },
      "source": [
        "# downsample majority\n",
        "not_fraud_downsampled = resample(not_fraud,\n",
        "                                replace = False, # sample without replacement\n",
        "                                n_samples = len(fraud), # match minority n\n",
        "                                random_state = 27) # reproducible results\n",
        "\n",
        "# combine minority and downsampled majority\n",
        "under_sampled = pd.concat([not_fraud_downsampled, fraud])\n",
        "\n"
      ],
      "execution_count": 0,
      "outputs": []
    },
    {
      "cell_type": "code",
      "metadata": {
        "colab_type": "code",
        "id": "w9TPQ7dzmaK_",
        "colab": {},
        "outputId": "53f95ddc-99f8-472c-d76f-33f798d68837"
      },
      "source": [
        "fig, ax = plt.subplots()\n",
        "x = sns.countplot(under_sampled['FraudResult'], palette='viridis')\n",
        "x.set_xticklabels(['Not Fraud', 'Fraud'])\n",
        "x.set_yticklabels([])\n",
        "\n",
        "# function to show values on bars\n",
        "def show_values_on_bars(axs):\n",
        "    def _show_on_single_plot(ax):        \n",
        "        for p in ax.patches:\n",
        "            _x = p.get_x() + p.get_width() / 2\n",
        "            _y = p.get_y() + p.get_height()\n",
        "            value = '{:.0f}'.format(p.get_height())\n",
        "            ax.text(_x, _y, value, ha=\"center\") \n",
        "\n",
        "    if isinstance(axs, np.ndarray):\n",
        "        for idx, ax in np.ndenumerate(axs):\n",
        "            _show_on_single_plot(ax)\n",
        "    else:\n",
        "        _show_on_single_plot(axs)\n",
        "show_values_on_bars(ax)\n",
        "\n",
        "sns.despine(left=True, bottom=True)\n",
        "plt.xlabel('')\n",
        "plt.ylabel('')\n",
        "plt.title('Distribution of Transactions for Over sampled data', fontsize=30)\n",
        "plt.tick_params(axis='x', which='major', labelsize=20)\n",
        "plt.show()"
      ],
      "execution_count": 0,
      "outputs": [
        {
          "output_type": "display_data",
          "data": {
            "image/png": "[encoded data removed]",
            "text/plain": [
              "<matplotlib.figure.Figure at 0x26383da3470>"
            ]
          },
          "metadata": {
            "tags": [],
            "needs_background": "light"
          }
        }
      ]
    },
    {
      "cell_type": "markdown",
      "metadata": {
        "colab_type": "text",
        "id": "QsxSEyU7Aysf"
      },
      "source": [
        "Converting all columns with categorical data to numerical data with LabelEncoder"
      ]
    },
    {
      "cell_type": "code",
      "metadata": {
        "colab_type": "code",
        "id": "bWDv5TZuzCxY",
        "colab": {},
        "outputId": "69025258-49ec-4df2-ba94-bc86d588c7f8"
      },
      "source": [
        "resampled_train_df.columns\n",
        "under_sampled.columns"
      ],
      "execution_count": 0,
      "outputs": [
        {
          "output_type": "execute_result",
          "data": {
            "text/plain": [
              "Index(['TransactionId', 'BatchId', 'AccountId', 'SubscriptionId', 'CustomerId',\n",
              "       'CurrencyCode', 'CountryCode', 'ProviderId', 'ProductId',\n",
              "       'ProductCategory', 'ChannelId', 'Amount', 'Value',\n",
              "       'TransactionStartTime', 'PricingStrategy', 'FraudResult'],\n",
              "      dtype='object')"
            ]
          },
          "metadata": {
            "tags": []
          },
          "execution_count": 16
        }
      ]
    },
    {
      "cell_type": "code",
      "metadata": {
        "colab_type": "code",
        "id": "yQi38aQK4bG1",
        "colab": {}
      },
      "source": [
        "def transformer(df,cols):\n",
        "  \n",
        "  \n",
        "    '''\n",
        "        Transforms columns of X specified in df.columns using\n",
        "        LabelEncoder(). \n",
        "    '''\n",
        "    output = df.copy()\n",
        "  \n",
        "    for col in df.columns:\n",
        "        if col in cols:\n",
        "            output[col] = LabelEncoder().fit_transform(output[col])\n",
        "    return output\n",
        "    \n",
        "   \n",
        "    "
      ],
      "execution_count": 0,
      "outputs": []
    },
    {
      "cell_type": "code",
      "metadata": {
        "colab_type": "code",
        "id": "JH8-Xn8693IA",
        "colab": {}
      },
      "source": [
        "cols =['BatchId', 'AccountId', 'SubscriptionId', 'CustomerId',\n",
        "       'CurrencyCode', 'CountryCode', 'ProviderId', 'ProductId',\n",
        "       'ProductCategory', 'ChannelId']"
      ],
      "execution_count": 0,
      "outputs": []
    },
    {
      "cell_type": "code",
      "metadata": {
        "colab_type": "code",
        "id": "DqKzQ2fT_fgJ",
        "colab": {}
      },
      "source": [
        "train_df = transformer(resampled_train_df, cols)\n",
        "test_df = transformer(test_df, cols)\n",
        "\n",
        "under_train_df = transformer(under_sampled, cols)"
      ],
      "execution_count": 0,
      "outputs": []
    },
    {
      "cell_type": "code",
      "metadata": {
        "colab_type": "code",
        "id": "Ekb74MFt_3pv",
        "colab": {}
      },
      "source": [
        ""
      ],
      "execution_count": 0,
      "outputs": []
    },
    {
      "cell_type": "code",
      "metadata": {
        "colab_type": "code",
        "id": "nZDS6np4B3PP",
        "colab": {}
      },
      "source": [
        ""
      ],
      "execution_count": 0,
      "outputs": []
    },
    {
      "cell_type": "code",
      "metadata": {
        "colab_type": "code",
        "id": "pVCsOYYxQxpo",
        "colab": {}
      },
      "source": [
        ""
      ],
      "execution_count": 0,
      "outputs": []
    },
    {
      "cell_type": "markdown",
      "metadata": {
        "colab_type": "text",
        "id": "sGx4LfXQLh9R"
      },
      "source": [
        "Convert string date to datetime"
      ]
    },
    {
      "cell_type": "code",
      "metadata": {
        "colab_type": "code",
        "id": "f0Q3M4qhKy6K",
        "colab": {}
      },
      "source": [
        "train_df['Date'] =  pd.to_datetime(train_df['TransactionStartTime'],format='%Y-%m-%d')\n",
        "test_df['Date'] =  pd.to_datetime(test_df['TransactionStartTime'],format='%Y-%m-%d')\n",
        "under_train_df['Date'] = pd.to_datetime(under_train_df['TransactionStartTime'],format='%Y-%m-%d')"
      ],
      "execution_count": 0,
      "outputs": []
    },
    {
      "cell_type": "markdown",
      "metadata": {
        "colab_type": "text",
        "id": "QJimgOXMYeA3"
      },
      "source": [
        "Droping the 'TransactionStartTime' column"
      ]
    },
    {
      "cell_type": "code",
      "metadata": {
        "colab_type": "code",
        "id": "so9FeNwTYdRh",
        "colab": {}
      },
      "source": [
        "train_df = train_df.drop('TransactionStartTime', axis=1)\n",
        "test_df = test_df.drop('TransactionStartTime', axis=1)\n",
        "under_train_df = under_train_df.drop('TransactionStartTime', axis=1)"
      ],
      "execution_count": 0,
      "outputs": []
    },
    {
      "cell_type": "markdown",
      "metadata": {
        "colab_type": "text",
        "id": "M2FBUvqaD4HH"
      },
      "source": [
        "Standarization of the new numerical data"
      ]
    },
    {
      "cell_type": "code",
      "metadata": {
        "colab_type": "code",
        "id": "4zZW2zULIlzQ",
        "colab": {}
      },
      "source": [
        "cols1 = ['BatchId', 'AccountId', 'SubscriptionId', 'CustomerId',\n",
        "       'CurrencyCode', 'CountryCode', 'ProviderId', 'ProductId',\n",
        "       'ProductCategory', 'ChannelId', 'Amount', 'Value',\n",
        "       'PricingStrategy']"
      ],
      "execution_count": 0,
      "outputs": []
    },
    {
      "cell_type": "code",
      "metadata": {
        "colab_type": "code",
        "id": "IVO6ayiQD23N",
        "colab": {}
      },
      "source": [
        "def scaler(df, cols):\n",
        "  \n",
        "    '''\n",
        "        Standadize columns specified in cols using\n",
        "        StandardScaler(). \n",
        "    '''\n",
        " \n",
        "    output = df.copy()\n",
        "  \n",
        "    features = df[cols]\n",
        "    scalr = StandardScaler().fit(features.values)\n",
        "    features = scalr.transform(features.values)\n",
        "    output[cols] = features\n",
        "  \n",
        "    return output\n",
        "    \n",
        "  "
      ],
      "execution_count": 0,
      "outputs": []
    },
    {
      "cell_type": "code",
      "metadata": {
        "colab_type": "code",
        "id": "pFd--FQFE_bI",
        "colab": {}
      },
      "source": [
        "train_df = scaler(train_df, cols1)\n",
        "\n",
        "test_df = scaler(test_df, cols1)\n",
        "\n",
        "under_train_df = scaler(under_train_df, cols1)"
      ],
      "execution_count": 0,
      "outputs": []
    },
    {
      "cell_type": "code",
      "metadata": {
        "colab_type": "code",
        "id": "bkG3iXIYSzJ9",
        "colab": {}
      },
      "source": [
        ""
      ],
      "execution_count": 0,
      "outputs": []
    },
    {
      "cell_type": "code",
      "metadata": {
        "colab_type": "code",
        "id": "wDZqufBcc8XF",
        "colab": {}
      },
      "source": [
        "def norm_time(df):\n",
        "    \n",
        "  # prepare data for standardization\n",
        "    time = df['Date'].values\n",
        "    time = time.reshape((len(time), 1))\n",
        "  # train the standardization\n",
        "    scaler = StandardScaler()\n",
        "    scaler = scaler.fit(time)\n",
        "\n",
        "# standardization the dataset and print the first 5 rows\n",
        "    df['normalized_date'] = scaler.transform(time)\n",
        "    return df\n"
      ],
      "execution_count": 0,
      "outputs": []
    },
    {
      "cell_type": "code",
      "metadata": {
        "colab_type": "code",
        "id": "YHpJl2ngee4W",
        "colab": {},
        "outputId": "a4415d1c-1113-4fc7-a746-e0fe98036d09"
      },
      "source": [
        "train_df = norm_time(train_df)\n",
        "test_df = norm_time(test_df)\n",
        "under_train_df = norm_time(under_train_df)"
      ],
      "execution_count": 0,
      "outputs": [
        {
          "output_type": "stream",
          "text": [
            "C:\\Users\\Tinzi\\Anaconda3\\lib\\site-packages\\sklearn\\utils\\validation.py:475: DataConversionWarning: Data with input dtype datetime64[ns] was converted to float64 by StandardScaler.\n",
            "  warnings.warn(msg, DataConversionWarning)\n"
          ],
          "name": "stderr"
        }
      ]
    },
    {
      "cell_type": "code",
      "metadata": {
        "colab_type": "code",
        "id": "9gqIFx6OH5sl",
        "colab": {},
        "outputId": "abb0edb1-9d44-48d0-d75e-99eecee6b526"
      },
      "source": [
        "test_df.shape"
      ],
      "execution_count": 0,
      "outputs": [
        {
          "output_type": "execute_result",
          "data": {
            "text/plain": [
              "(45019, 16)"
            ]
          },
          "metadata": {
            "tags": []
          },
          "execution_count": 27
        }
      ]
    },
    {
      "cell_type": "code",
      "metadata": {
        "colab_type": "code",
        "id": "zy9We0e9JZG1",
        "colab": {},
        "outputId": "b0c6a0a8-814a-475b-b1e7-97f16c58b24d"
      },
      "source": [
        "train_df.shape"
      ],
      "execution_count": 0,
      "outputs": [
        {
          "output_type": "execute_result",
          "data": {
            "text/plain": [
              "(190938, 17)"
            ]
          },
          "metadata": {
            "tags": []
          },
          "execution_count": 28
        }
      ]
    },
    {
      "cell_type": "markdown",
      "metadata": {
        "colab_type": "text",
        "id": "AuYwqPv3SIuZ"
      },
      "source": [
        "Getting X and Y trains"
      ]
    },
    {
      "cell_type": "code",
      "metadata": {
        "colab_type": "code",
        "id": "2-Bfth1ASCIM",
        "colab": {}
      },
      "source": [
        "X = train_df\n",
        "X_train = X.drop(['FraudResult', 'TransactionId', 'Date'], axis=1)\n",
        "y_train = X['FraudResult']\n",
        "\n",
        "X_test = test_df.drop(['TransactionId', 'Date'], axis=1)\n",
        "\n",
        "X1_train = under_train_df.drop(['FraudResult', 'TransactionId', 'Date'], axis=1)\n",
        "y1_train = under_train_df['FraudResult']"
      ],
      "execution_count": 0,
      "outputs": []
    },
    {
      "cell_type": "code",
      "metadata": {
        "colab_type": "code",
        "id": "nwmNIY0oTxXE",
        "colab": {}
      },
      "source": [
        ""
      ],
      "execution_count": 0,
      "outputs": []
    },
    {
      "cell_type": "markdown",
      "metadata": {
        "colab_type": "text",
        "id": "MbfFSVsCTygE"
      },
      "source": [
        "Model training"
      ]
    },
    {
      "cell_type": "code",
      "metadata": {
        "colab_type": "code",
        "id": "wQfv3J9LTxei",
        "colab": {}
      },
      "source": [
        "\n",
        "# KNeighborsClassifier\n",
        "\n",
        "knn = KNeighborsClassifier(n_neighbors=4)\n",
        "\n",
        "model = knn.fit(X_train, y_train) \n",
        "model1 = knn.fit(X1_train, y1_train)\n",
        "\n",
        "# LogisticRegression\n",
        "logreg = LogisticRegression()\n",
        "\n",
        "model2 = logreg.fit(X_train, y_train) \n",
        "model3 = logreg.fit(X1_train, y1_train) \n",
        "\n",
        "\n",
        "# RandomForest\n",
        "rfc = RandomForestClassifier(n_estimators=100, max_depth=2, random_state=0)\n",
        "\n",
        "model4 = rfc.fit(X_train, y_train)  \n",
        "model5 = rfc.fit(X1_train, y1_train)"
      ],
      "execution_count": 0,
      "outputs": []
    },
    {
      "cell_type": "code",
      "metadata": {
        "colab_type": "code",
        "id": "LMUaou45Zz18",
        "colab": {}
      },
      "source": [
        ""
      ],
      "execution_count": 0,
      "outputs": []
    },
    {
      "cell_type": "markdown",
      "metadata": {
        "colab_type": "text",
        "id": "mnCyiSvUZ5L3"
      },
      "source": [
        "Predicting y for X_test"
      ]
    },
    {
      "cell_type": "code",
      "metadata": {
        "colab_type": "code",
        "id": "XM_Ab7IdZz_g",
        "colab": {}
      },
      "source": [
        "# KNeighborsClassifier\n",
        "y_pred_knn = model.predict(X_test) \n",
        "y_pred_knn1 = model1.predict(X_test) \n",
        "\n",
        "# LogisticRegression\n",
        "y_pred_log = model2.predict(X_test)\n",
        "y_pred_log1 = model3.predict(X_test)\n",
        "\n",
        "# RandomForest\n",
        "y_pred_rfc = model4.predict(X_test)\n",
        "y_pred_rfc1 = model5.predict(X_test)\n"
      ],
      "execution_count": 0,
      "outputs": []
    },
    {
      "cell_type": "code",
      "metadata": {
        "colab_type": "code",
        "id": "BS8BT3zfaRVE",
        "colab": {}
      },
      "source": [
        ""
      ],
      "execution_count": 0,
      "outputs": []
    },
    {
      "cell_type": "markdown",
      "metadata": {
        "colab_type": "text",
        "id": "WhwECLUIaRl5"
      },
      "source": [
        "Submission to csv file"
      ]
    },
    {
      "cell_type": "code",
      "metadata": {
        "colab_type": "code",
        "id": "naQJA3UEaR6g",
        "colab": {}
      },
      "source": [
        "# Create submission dataframe and add predictions to it\n",
        "sub = pd.DataFrame()\n",
        "sub['TransactionId'] = test_df['TransactionId']\n",
        "sub['FraudResult'] = y_pred_knn\n",
        "\n",
        "sub1 = pd.DataFrame()\n",
        "sub1['TransactionId'] = test_df['TransactionId']\n",
        "sub1['FraudResult'] = y_pred_log\n",
        "\n",
        "sub2 = pd.DataFrame()\n",
        "sub2['TransactionId'] = test_df['TransactionId']\n",
        "sub2['FraudResult'] = y_pred_knn1\n",
        "\n",
        "sub3 = pd.DataFrame()\n",
        "sub3['TransactionId'] = test_df['TransactionId']\n",
        "sub3['FraudResult'] = y_pred_log1\n",
        "\n",
        "sub4 = pd.DataFrame()\n",
        "sub4['TransactionId'] = test_df['TransactionId']\n",
        "sub4['FraudResult'] = y_pred_rfc\n",
        "\n",
        "sub5 = pd.DataFrame()\n",
        "sub5['TransactionId'] = test_df['TransactionId']\n",
        "sub5['FraudResult'] = y_pred_rfc1\n",
        "\n",
        "# Write submission dataframe to a csv for submission\n",
        "sub.to_csv('over_submission_knn.csv', index=False)\n",
        "sub1.to_csv('over_submission_log.csv', index=False)\n",
        "sub2.to_csv('under_submission_knn.csv', index=False)\n",
        "sub3.to_csv('under_submission_log.csv', index=False)\n",
        "sub2.to_csv('over_submission_rfc.csv', index=False)\n",
        "sub3.to_csv('under_submission_rfc.csv', index=False)"
      ],
      "execution_count": 0,
      "outputs": []
    },
    {
      "cell_type": "markdown",
      "metadata": {
        "colab_type": "text",
        "id": "eD7jYuuasiPs"
      },
      "source": [
        "Downloading submission files to local drive"
      ]
    },
    {
      "cell_type": "code",
      "metadata": {
        "colab_type": "code",
        "id": "xYKoCUxQfiKa",
        "colab": {}
      },
      "source": [
        "files.download(\"over_submission_knn.csv\")\n",
        "files.download(\"over_submission_log.csv\")\n",
        "files.download(\"under_submission_knn.csv\")\n",
        "files.download(\"under_submission_log.csv\")\n",
        "files.download(\"over_submission_rfc.csv\")\n",
        "files.download(\"under_submission_rfc.csv\")"
      ],
      "execution_count": 0,
      "outputs": []
    },
    {
      "cell_type": "code",
      "metadata": {
        "colab_type": "code",
        "id": "snVIMqB6hoPW",
        "colab": {}
      },
      "source": [
        ""
      ],
      "execution_count": 0,
      "outputs": []
    },
    {
      "cell_type": "code",
      "metadata": {
        "colab_type": "code",
        "id": "M_qnERJMlFdG",
        "colab": {}
      },
      "source": [
        ""
      ],
      "execution_count": 0,
      "outputs": []
    }
  ]
}